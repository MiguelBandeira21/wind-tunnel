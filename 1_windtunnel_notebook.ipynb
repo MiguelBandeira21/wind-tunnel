{
 "cells": [
  {
   "cell_type": "markdown",
   "metadata": {},
   "source": [
    "## Installation in Notebook"
   ]
  },
  {
   "cell_type": "code",
   "execution_count": null,
   "metadata": {},
   "outputs": [],
   "source": [
    "!pip install inductiva\n",
    "!pip install -r requeriments.txt"
   ]
  },
  {
   "cell_type": "markdown",
   "metadata": {},
   "source": [
    "# Wind Tunnel simulation\n",
    "\n",
    "In this notebook, we show how to configure an example of\n",
    "a virtual `WindTunnel` by extending the straightforward API calls of a simulator \n",
    "with the **Inductiva API**.\n",
    "\n",
    "This abstraction is designated by **simulation scenario** and is powered by a\n",
    "powerful templating mechanism which prepares the input files for the simulation\n",
    "from the essential parameters defining the Wind Tunnel."
   ]
  },
  {
   "cell_type": "markdown",
   "metadata": {},
   "source": [
    "### Modelling the Wind Tunnel\n",
    "\n",
    "We consider our virtual wind tunnel to be a rectangular box with variable \n",
    "dimensions in `x, y, z` directions and with air flowing from left to right on\n",
    "the $x$-axis at a given fixed speed. \n",
    "\n",
    "For this wind tunnel, we assume incompressible fluid flow, which limits the\n",
    "airflow maximum speed to 100 m/s. \n",
    "\n",
    "These characteristics are encapsulated in the following Python data class (see \n",
    "`lib/models.py` for extra detail on how to handle argument verification)."
   ]
  },
  {
   "cell_type": "code",
   "execution_count": null,
   "metadata": {},
   "outputs": [],
   "source": [
    "from dataclasses import dataclass, asdict\n",
    "from typing import Dict, Optional, Tuple\n",
    "\n",
    "@dataclass\n",
    "class WindTunnel:\n",
    "    \"\"\"Wind tunnel model.\n",
    "    \n",
    "    Attributes:\n",
    "        flow_velocity - a tuple with three values that represents\n",
    "            the air flow direction and magnitude.\n",
    "        domain - Dict of the type {\"x\": [x0, x1], \"y\": [y0, y1], \"z\": [z0, z1]}.\n",
    "    \"\"\"\n",
    "\n",
    "    flow_velocity: Tuple[float, float, float] = (30, 0, 0)\n",
    "    domain: Optional[Dict[str, list]] = None\n",
    "\n",
    "    def to_dict(self):\n",
    "        \"\"\"Converts the object to a dictionary.\"\"\"\n",
    "        return asdict(self)"
   ]
  },
  {
   "cell_type": "markdown",
   "metadata": {},
   "source": [
    "A specific virtual WindTunnel configuration is created as follows:"
   ]
  },
  {
   "cell_type": "code",
   "execution_count": null,
   "metadata": {},
   "outputs": [],
   "source": [
    "wind_tunnel = WindTunnel(flow_velocity=(45, 0, 0), \n",
    "                         domain={\"x\": [-4, 15], \"y\": [-4, 4], \"z\": [0, 5]})"
   ]
  },
  {
   "cell_type": "markdown",
   "metadata": {},
   "source": [
    "### From Model to Simulation Configuration\n",
    "\n",
    "Before running any simulation, this programmatic characterization of the wind\n",
    "tunnel needs to be translated into the input files required by the simulator.\n",
    "\n",
    "The **Inductiva API** library provides a powerful mechanism to generate input\n",
    "files from these parameters using a templating engine. This mechanism allows users\n",
    "to define template files containing tags that get replaced with specific values\n",
    "upon rendering. The templating mechanism is integrated into a file packing\n",
    "interface - the `FileManager` class - that allows users to easily manage the\n",
    "rendering of the template files.\n",
    "\n",
    "Consider a simple template file (`template.txt.jinja`) containing the following\n",
    "content:\n",
    "\n",
    "```jinja\n",
    "# content of template.txt.jinja\n",
    "flowVelocity ({{ flow_velocity[0] }} {{ flow_velocity[1] }} {{ flow_velocity[2] }});\n",
    "```\n",
    "\n",
    "Using a `FileManager` object, this file can be easily rendered and stored in a\n",
    "user-specified folder:"
   ]
  },
  {
   "cell_type": "code",
   "execution_count": null,
   "metadata": {},
   "outputs": [],
   "source": [
    "from inductiva import mixins\n",
    "\n",
    "manager = mixins.FileManager()\n",
    "\n",
    "# specify the user-specific folder where files are to be stored\n",
    "manager.set_root_dir('myfiles')\n",
    "\n",
    "# render template.txt.jinja by setting the `particle_radius` to 10\n",
    "# and specifying the name of the rendered file\n",
    "manager.add_file('assets/template.txt.jinja', 'assets/rendered.txt',\n",
    "                 **{\"flow_velocity\": [10, 0, 0]})"
   ]
  },
  {
   "cell_type": "markdown",
   "metadata": {},
   "source": [
    "By executing the above snippet a `myfiles/` folder\n",
    "is created in the current working directory, containing the rendered file `rendered.txt`\n",
    "with the following content:\n",
    "\n",
    "```\n",
    "# content of rendered.txt\n",
    "flowVelocity (10 0 0);\n",
    "```\n",
    "\n",
    "> **NOTE**: `FileManager.add_file` also allows non-template files to be added to\n",
    "> the manager. Files are considered to be templates when ending with the `.jinja`\n",
    "> extension.\n",
    ">\n",
    "> `FileManager` also provides an `add_dir` method that behaves pretty much as\n",
    "> `add_file` by copying and rendering all files inside a directory.\n"
   ]
  },
  {
   "cell_type": "markdown",
   "metadata": {},
   "source": [
    "### Building the scenario\n",
    "\n",
    "The templating tools above allow the creation of another level of abstraction\n",
    "on top of pre-defined template files. Users can build a simple interface to configure the\n",
    "parameters and/or model details, which makes it easy to deploy multiple simulations.\n",
    "\n",
    "In this section, we introduce the concept of a **Scenario**, the abstaction that\n",
    "wraps the model, simulation parameters and job deployment into a single interface.\n",
    "\n",
    "\n",
    "#### WindTunnel Scenario\n",
    "\n",
    "Our virtual `WindTunnelScenario` is configured with the model above, with the\n",
    "vehicle for which we want to test the aerodynamics and with a few simulation\n",
    "parameters.\n",
    "\n",
    "Hereby, the physics of air flowing inside the wind tunnel is fixed. For \n",
    "demonstration purposes, we consider the air to be an incompressible fluid. The\n",
    "simulations performed are steady-state simulations, which means that the\n",
    "simulations are time-independent and are run until the flow reaches a steady state.\n",
    "\n",
    "All of these is configured in the template files for the simulator in use. To\n",
    "run the `WindTunnelScenario` we will use the `OpenFOAM` simulator available via\n",
    "the **Inductiva API**.\n",
    "\n",
    "\n",
    "The following snippets shows the implementation of the simulation parameters and the\n",
    "`WindTunnelScenario` scenario, respectively:"
   ]
  },
  {
   "cell_type": "code",
   "execution_count": null,
   "metadata": {},
   "outputs": [],
   "source": [
    "@dataclass\n",
    "class SimulationParameters:\n",
    "    \"\"\"Simulation-specific configuration parameters\"\"\"\n",
    "\n",
    "    num_iterations: float = 100\n",
    "    resolution: int = 2\n",
    "\n",
    "    def to_dict(self):\n",
    "        \"\"\"Returns a dictionary representation of the simulation parameters.\"\"\"\n",
    "        return asdict(self)"
   ]
  },
  {
   "cell_type": "markdown",
   "metadata": {},
   "source": [
    "The `SimulationParameters` data class is a placeholder of the parameters specific\n",
    "of the simulation into a single object, that allows the user to test different\n",
    "simulation configurations using the same `WindTunnel` and vehicle.\n"
   ]
  },
  {
   "cell_type": "code",
   "execution_count": null,
   "metadata": {},
   "outputs": [],
   "source": [
    "import inductiva\n",
    "from inductiva import mixins, resources, simulators\n",
    "\n",
    "class WindTunnelScenario(mixins.FileManager):\n",
    "    \"\"\"WindTunnel scenario.\"\"\"\n",
    "\n",
    "    SCENARIO_DIR = \"wind_tunnel_input\"\n",
    "    SCENARIO_TEMPLATE_DIR = \"lib/templates\"\n",
    "\n",
    "    def __init__(self,\n",
    "                 wind_tunnel: WindTunnel):\n",
    "        \"\"\"Initializes the `WindTunnel` conditions.\n",
    "\n",
    "        Args:\n",
    "            wind_tunnel: Wind tunnel model.\n",
    "        \"\"\"\n",
    "        self.wind_tunnel = wind_tunnel\n",
    "\n",
    "    def get_commands(self):\n",
    "        commands = [\n",
    "            {\"cmd\": \"runApplication surfaceFeatures\", \"prompts\": []},\n",
    "            {\"cmd\": \"runApplication blockMesh\", \"prompts\":[]},\n",
    "            {\"cmd\": \"runApplication decomposePar -copyZero\", \"prompts\":[]},\n",
    "            {\"cmd\": \"runParallel snappyHexMesh -overwrite\", \"prompts\":[]},\n",
    "            {\"cmd\": \"runParallel potentialFoam\", \"prompts\":[]},\n",
    "            {\"cmd\": \"runParallel simpleFoam\", \"prompts\":[]},\n",
    "            {\"cmd\": \"runApplication reconstructParMesh -constant\", \"prompts\":[]},\n",
    "            {\"cmd\": \"runApplication reconstructPar -latestTime\", \"prompts\": []}\n",
    "        ]\n",
    "\n",
    "        return commands\n",
    "\n",
    "    def simulate(self,\n",
    "                 object_path: str,\n",
    "                 sim_params: SimulationParameters,\n",
    "                 machine_group: Optional[resources.MachineGroup] = None,\n",
    "                ):\n",
    "        \"\"\"Simulates the wind tunnel scenario synchronously.\n",
    "\n",
    "        Args:\n",
    "            object_path: Path to object inserted in the wind tunnel.\n",
    "            sim_params: Simulation-specific configuration parameters.\n",
    "            machine_group: The machine group to use for the simulation.\n",
    "        \"\"\"\n",
    "\n",
    "        self.set_root_dir(self.SCENARIO_DIR)\n",
    "        # add dir first to create the input directory structure from templates\n",
    "        self.add_dir(self.SCENARIO_TEMPLATE_DIR, **sim_params.to_dict(),\n",
    "                     **self.wind_tunnel.to_dict())\n",
    "        self.add_file(object_path, \"constant/triSurface/object.obj\")\n",
    "\n",
    "\n",
    "        task = simulators.OpenFOAM().run(\n",
    "            input_dir=self.get_root_dir(),\n",
    "            machine_group=machine_group,\n",
    "            commands=self.get_commands())\n",
    "\n",
    "        return task\n"
   ]
  },
  {
   "cell_type": "markdown",
   "metadata": {},
   "source": [
    "The `WindTunnelScenario` inherits from `FileManager` all the file management and\n",
    "rendering tools previously discussed. An instance of the `WindTunnelScenario` is\n",
    "initialized just with a model of the `WindTunnel`, and then the vehicle to be tested\n",
    "is passed as an argument to the `simulate` method. This is merely a design choice,\n",
    "where the reasoning follows that the wind tunnel is invariant between different\n",
    "simulation runs, but different vehicles can be tested within the same wind tunnel.\n",
    "Note, however, that users need not follow this pattern when implementing their\n",
    "own scenarios.\n",
    "\n",
    "All the required logic to render the template files and deploy the simulation is \n",
    "implemented in the `simulate` method. This method consumes 3 arguments: the\n",
    "path to the vehicle to be tested, a `SimulationParameters` and a\n",
    "`MachineGroup` objects. \n",
    "\n",
    "Like the template files, the `vehicle_path` needs to be added to the input directory.\n",
    "For some simulators, like `OpenFOAM`, the user should set the `vehicle`\n",
    "in a specific directory. The template directory can already have\n",
    "this directory prepared, and hence by adding/rendering the template files first,\n",
    "the vehicle can be added to the correct place afterwards, without extra directory\n",
    "creation.\n",
    "\n",
    "To run an `OpenFOAM` simulation several commands need to be performed. These, are\n",
    "defined in the `get_commands()` method of the class and will be executed\n",
    "sequentially as one single job.\n",
    "\n",
    "The `MachineGroup` is an **Inductiva API** construct that allows the user to configure\n",
    "the computational resources used to run the simulations.\n",
    "By default (`machine_group = None`), the user does not need to configure this\n",
    "parameter and resources will be managed by default pool (see the\n",
    "[MachineGroup](https://github.com/inductiva/inductiva/wiki/Machines) documentation\n",
    "for details on how to configure and use machine groups).\n"
   ]
  },
  {
   "cell_type": "markdown",
   "metadata": {},
   "source": [
    "### Running Wind Tunnel simulations\n",
    "\n",
    "With the scenario, models and a vehicle (`assets/vehicle.obj`), we are now ready\n",
    "to `simulate` a virtual wind tunnel!\n",
    "\n",
    "Notice that launching a simulation, whether with a scenario or with a call to the\n",
    "simulator, uses **Inductiva API**. Hence, you need to set up your API key to\n",
    "run the simulation."
   ]
  },
  {
   "cell_type": "code",
   "execution_count": null,
   "metadata": {},
   "outputs": [],
   "source": [
    "inductiva.api_key = \"eyJhbGciOiJBMjU2S1ciLCJlbmMiOiJBMjU2R0NNIn0.7_eCmBP41EQJ6yrdbD8YqBOOHvP4ZNn84AUKe2dDMFOOCp461KlMcQ.fo2_L2KArkFYFWMgQfEFTQ.nACEHmWN3z-cL7enhVav08rv7mZmoK2Nsvn5LspV7a8RFrXOzl7XUPgBhEaFm79W110.PgeE80Cx0Um95n4ANdiNrA\""
   ]
  },
  {
   "cell_type": "markdown",
   "metadata": {},
   "source": [
    "#### Single simulation"
   ]
  },
  {
   "cell_type": "code",
   "execution_count": null,
   "metadata": {},
   "outputs": [],
   "source": [
    "# Initialize a wind tunnel with 45 m/s flow velocity\n",
    "wind_tunnel = WindTunnel(flow_velocity=(45, 0, 0),\n",
    "                         domain={\"x\": [-4, 15], \"y\": [-4, 4], \"z\": [0, 5]})\n",
    "\n",
    "sim_params = SimulationParameters(num_iterations=100, resolution=2)\n",
    "\n",
    "# Initialize a scenario with the wind tunnel and the simulation parameters\n",
    "scenario = WindTunnelScenario(wind_tunnel)\n",
    "\n",
    "# Simulate the scenario with the object at the given path\n",
    "task = scenario.simulate(object_path=\"assets/vehicle.obj\",\n",
    "                         sim_params=sim_params)\n",
    "\n",
    "# Wait for the simulation to finish and download the results\n",
    "task.wait()\n",
    "output = task.download_outputs()"
   ]
  },
  {
   "cell_type": "markdown",
   "metadata": {},
   "source": [
    "For this scenario, there are a few methods prepared to post-process and visualize\n",
    "the results, check the `lib/post_processing.py` file for more details. Here, we\n",
    "visualize the pressure distribution and a slice of the velocity field.\n"
   ]
  },
  {
   "cell_type": "code",
   "execution_count": null,
   "metadata": {},
   "outputs": [],
   "source": [
    "from lib import post_processing\n",
    "\n",
    "processor = post_processing.WindTunnelOutput(output)\n",
    "\n",
    "pressure = processor.get_object_pressure_field()\n",
    "pressure.render()"
   ]
  },
  {
   "cell_type": "code",
   "execution_count": null,
   "metadata": {},
   "outputs": [],
   "source": [
    "slice = processor.get_flow_slice()\n",
    "slice.render(\"velocity\")"
   ]
  },
  {
   "cell_type": "markdown",
   "metadata": {},
   "source": [
    "#### Multiple simulations\n",
    "\n",
    "Iterating over the parameters and submitting multiple wind tunnel simulations is\n",
    "now straightforward. To examplify this, let's test the same vehicle under \n",
    "different flow velocities.\n",
    "\n",
    "For running all the simulations in parallel, we launch a machine group with 3 machines\n",
    "and will submit the simulations to it."
   ]
  },
  {
   "cell_type": "code",
   "execution_count": null,
   "metadata": {},
   "outputs": [],
   "source": [
    "machines = resources.MachineGroup(\n",
    "    machine_type=\"c2-standard-4\", num_machines=3)\n",
    "\n",
    "machines.start()"
   ]
  },
  {
   "cell_type": "code",
   "execution_count": null,
   "metadata": {},
   "outputs": [],
   "source": [
    "tasks_list = []\n",
    "flow_velocity_list = [(10, 0, 0), (30, 0, 0), (50, 0, 0)]\n",
    "\n",
    "\n",
    "for flow_velocity in flow_velocity_list:\n",
    "    # Initialize a wind tunnel with the given flow velocity\n",
    "    wind_tunnel = WindTunnel(flow_velocity=flow_velocity,\n",
    "                             domain={\"x\": [-4, 15], \"y\": [-4, 4], \"z\": [0, 5]})\n",
    "\n",
    "    # Initialize a scenario with the wind tunnel and the simulation parameters\n",
    "    scenario = WindTunnelScenario(wind_tunnel)\n",
    "\n",
    "    # Submit the simulation, with the sim_params of the previus section\n",
    "    task = scenario.simulate(object_path=\"assets/vehicle.obj\",\n",
    "                             sim_params=sim_params,\n",
    "                             machine_group=machines)\n",
    "    tasks_list.append(task)\n"
   ]
  },
  {
   "cell_type": "markdown",
   "metadata": {},
   "source": [
    "All simulations have been submitted, and now we can wait for them to finish, and\n",
    "then download the results."
   ]
  },
  {
   "cell_type": "code",
   "execution_count": null,
   "metadata": {},
   "outputs": [],
   "source": [
    "for task in tasks_list:\n",
    "    task.wait()\n",
    "    task.download_outputs()"
   ]
  },
  {
   "cell_type": "markdown",
   "metadata": {},
   "source": [
    "With the simulations finished, we can now terminate the machines:"
   ]
  },
  {
   "cell_type": "code",
   "execution_count": null,
   "metadata": {},
   "outputs": [],
   "source": [
    "machines.terminate()"
   ]
  },
  {
   "cell_type": "markdown",
   "metadata": {},
   "source": [
    "If your interest was piqued, go deeper by exploring this scenario implemented in\n",
    "the `lib` folder and create your own virtual **wind tunnel**!"
   ]
  }
 ],
 "metadata": {
  "kernelspec": {
   "display_name": ".venv",
   "language": "python",
   "name": "python3"
  },
  "language_info": {
   "codemirror_mode": {
    "name": "ipython",
    "version": 3
   },
   "file_extension": ".py",
   "mimetype": "text/x-python",
   "name": "python",
   "nbconvert_exporter": "python",
   "pygments_lexer": "ipython3",
   "version": "3.10.13"
  }
 },
 "nbformat": 4,
 "nbformat_minor": 2
}
