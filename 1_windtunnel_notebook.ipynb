{
 "cells": [
  {
   "cell_type": "markdown",
   "metadata": {},
   "source": [
    "# Creating a custom Wind Tunnel scenario\n",
    "\n",
    "In this notebook, we will briefly explain how to create a custom scenario to run Wind Tunnel simulations. \n",
    "\n",
    "The fundamental blocks required to create a scenario:\n",
    "\n",
    "- Choose the simulators you want to use among the ones available via the **Inductiva API**;\n",
    "- Template the input files for the simulators;\n",
    "- Construct a Python class from the base class `Scenario` withing **Inductiva API**.\n"
   ]
  },
  {
   "cell_type": "markdown",
   "metadata": {},
   "source": [
    "### Choosing a simulator\n",
    "\n",
    "For this scenario, we will use the OpenFOAM simulator which is accessible with **Inductiva API**. The simulator is called `OpenFOAM` and it is available in the `inductiva.simulators` module. Look [at the documentation](https://github.com/inductiva/inductiva/wiki/OpenFOAM) for more information about the simulator."
   ]
  },
  {
   "cell_type": "markdown",
   "metadata": {},
   "source": [
    "### Templating the input files\n",
    "\n",
    "Starting from previously prepared simulation configuration files, we can select a few parameters which we allow to be modified and the rest of the file will be used as is. The parameters to be modified are templated in the input files and will be the arguments passed in the class methods that allow to modify the scenario.\n",
    "\n",
    "Each parameter we want to modify is templated in the input file using the following syntax `{{ parameter_name }}`. In the case of the OpenFOAM, let's show an example with the `controlDict` file:\n",
    "\n",
    "<div>\n",
    "<img src=\"../assets/template_example.png\" alt=\"Template Example\" width=\"300\">\n",
    "</div>\n",
    "\n",
    "Then, we need to append the suffix `.jinja` to each file that contains a template parameter. In this case, the file will be called `controlDict.jinja`."
   ]
  },
  {
   "cell_type": "markdown",
   "metadata": {
    "vscode": {
     "languageId": "plaintext"
    }
   },
   "source": [
    "For this scenario, we template the following parameters:\n",
    "- `flow_velocity`: the velocity of the flow in the wind tunnel;\n",
    "- `domain`: the domain geometry of the wind tunnel (assuming a rectangular box shape);\n",
    "- `object_path`: the object we want to insert inside the domain;\n",
    "- `num_iterations`: the number of iterations the solver will run to find the steady-state;\n",
    "- `resolution`: a parameter to control the resolution of the mesh.\n",
    "\n",
    "We want to highlight that these variables can be anything you want: floats, lists, dictionaries. For example, we will assume that the `domain` is a dict given as `domain={\"x\": [0, 10], \"y\": [-5, 5], \"z\": [0, 8]}`. Then, we modify the `blockMeshDict.jinja` file as follows:\n",
    "\n",
    "<div>\n",
    "<img src=\"../assets/domain_template.png\" alt=\"Template Example\" width=\"400\">\n",
    "</div>\n",
    "\n",
    "The scenario is only limited by your imagination!"
   ]
  },
  {
   "cell_type": "markdown",
   "metadata": {},
   "source": [
    "### Construct the custom Scenario class\n",
    "\n",
    "As mentioned we will start from the base class `Scenario` in Inductiva API. The class will contain the following methods:\n",
    "-   `__init__`: Initializes the scenario with the parameters of the physical model;\n",
    "-   `simulate`: Launch the simulation of the physical model and adjust the simulation parameters.\n",
    "\n",
    "All templated parameters need to be passed to the base class attribute `params` in order to be substituted in the template files. Keep the same naming convention as in the template files. \n",
    "\n",
    "Furthermore, the `simulate` method inherits three arguments from the base class: \n",
    "- the `simulator`: simulator to run the simulation scenario.\n",
    "- the `machine_group`: the machines where the simulation will run.\n",
    "- the `storage_dir`: the directory on the Cloud to store the simulation.\n",
    "\n",
    "Then, since we want users to pass their own object, we will use `add_extra_input_files` method to insert the object in the right place. For the case of the OpenFOAM is in the folder `constant/triSurface`. Then, the method will be called automatically when the simulation is launched.\n",
    "\n",
    "\n",
    "Let's start implementing the class!"
   ]
  },
  {
   "cell_type": "code",
   "execution_count": null,
   "metadata": {},
   "outputs": [],
   "source": [
    "import os\n",
    "import inductiva\n",
    "\n",
    "class WindTunnel(inductiva.scenarios.Scenario):\n",
    "    \"\"\"Implementation of a custom WindTunnel scenario.\"\"\"\n",
    "\n",
    "    # Class attributes that are used within the base scenario class.\n",
    "    valid_simulators = [inductiva.simulators.OpenFOAM]\n",
    "    template_files_dir = \"templates\"\n",
    "\n",
    "    def __init__(self,\n",
    "                 flow_velocity = None,\n",
    "                 domain = None):\n",
    "        \"\"\"Initialise the scenario.\n",
    "\n",
    "        Args:\n",
    "            flow_velocity: List of floats describing the direction of the flow.\n",
    "            domain: Dictionary describing the domain of the simulation.\n",
    "\n",
    "        \"\"\"\n",
    "\n",
    "        self.params[\"flow_velocity\"] = flow_velocity\n",
    "        self.params[\"domain\"] = domain\n",
    "\n",
    "    def simulate(\n",
    "        self,\n",
    "        simulator = inductiva.simulators.OpenFOAM(),\n",
    "        machine_group = None,\n",
    "        storage_dir = \"\",\n",
    "        object_path = None,\n",
    "        num_iterations = 100,\n",
    "        resolution = 2\n",
    "    ):\n",
    "        \"\"\"Run the simulation scenario.\n",
    "\n",
    "        Args:\n",
    "            object_path: Path to the object to be inside the WindTunnel.\n",
    "            num_iterations: Number of iterations to simulate.\n",
    "            resolution: Integer controlling the resolution of the simulation.\n",
    "        \"\"\"\n",
    "\n",
    "        self.object_path = object_path\n",
    "        self.params[\"num_iterations\"] = num_iterations\n",
    "        self.params[\"resolution\"] = resolution\n",
    "\n",
    "        commands = self.get_commands()\n",
    "        task = super().simulate(simulator,\n",
    "                                machine_group=machine_group,\n",
    "                                storage_dir=storage_dir,\n",
    "                                commands=commands)\n",
    "\n",
    "        return task\n",
    "\n",
    "    def pre_simulate_hook(self):\n",
    "        \"\"\"Set pre-simulation parameters.\"\"\"\n",
    "\n",
    "        output_path = os.path.join(\"constant\", \"triSurface\", \"object.obj\")\n",
    "        self.add_extra_input_files(self.object_path, output_path)\n",
    "\n",
    "\n"
   ]
  }
 ],
 "metadata": {
  "language_info": {
   "name": "python"
  }
 },
 "nbformat": 4,
 "nbformat_minor": 2
}
